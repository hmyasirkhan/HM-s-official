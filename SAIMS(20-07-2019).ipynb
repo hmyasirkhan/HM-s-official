{
 "cells": [
  {
   "cell_type": "markdown",
   "metadata": {},
   "source": [
    "\n",
    "# CSV file"
   ]
  },
  {
   "cell_type": "code",
   "execution_count": 19,
   "metadata": {},
   "outputs": [],
   "source": [
    "import csv"
   ]
  },
  {
   "cell_type": "code",
   "execution_count": 20,
   "metadata": {},
   "outputs": [
    {
     "name": "stdout",
     "output_type": "stream",
     "text": [
      "<_csv.reader object at 0x0000000B34439118>\n"
     ]
    }
   ],
   "source": [
    "with open (\"abc.csv\") as f:\n",
    "    x = csv.reader(f)\n",
    "    print(x)"
   ]
  },
  {
   "cell_type": "code",
   "execution_count": 21,
   "metadata": {},
   "outputs": [
    {
     "name": "stdout",
     "output_type": "stream",
     "text": [
      "[['world cup'], ['final'], ['matchj'], ['team'], ['win'], ['loss'], ['toss'], ['wicket'], ['run'], ['out'], ['captain']]\n"
     ]
    }
   ],
   "source": [
    "with open ('abc.csv') as f:\n",
    "    x = csv.reader(f)\n",
    "    y = []\n",
    "    for i in x:\n",
    "        y.append(i)\n",
    "print(y)"
   ]
  },
  {
   "cell_type": "code",
   "execution_count": 26,
   "metadata": {},
   "outputs": [],
   "source": [
    "with open('whatever.csv', 'w', newline='') as f:\n",
    "    data_handler = csv.writer(f,delimiter= ',')\n",
    "    data_handler.writerow(['house', 'child', 'wife', 'husband'])\n",
    "    data_handler.writerow(['sports', 'band', 'text'])\n",
    "    data_handler.writerow(['daily', 'weekly', 'monthly', 'yearly'])"
   ]
  },
  {
   "cell_type": "code",
   "execution_count": 28,
   "metadata": {},
   "outputs": [],
   "source": [
    "with open('whatever.csv', 'a', newline='') as f:\n",
    "    data_handler = csv.writer(f,delimiter= ',')\n",
    "    data_handler.writerow(['home'])\n",
    "    data_handler.writerow(['garage'])\n",
    "    data_handler.writerow(['car'])"
   ]
  },
  {
   "cell_type": "code",
   "execution_count": 29,
   "metadata": {},
   "outputs": [],
   "source": [
    "with open('whatever.csv', 'a') as f:\n",
    "    data_handler = csv.writer(f,delimiter= ',')\n",
    "    data_handler.writerow(['home'])\n",
    "    data_handler.writerow(['garage'])\n",
    "    data_handler.writerow(['car'])"
   ]
  },
  {
   "cell_type": "markdown",
   "metadata": {},
   "source": [
    "# json file"
   ]
  },
  {
   "cell_type": "code",
   "execution_count": 47,
   "metadata": {},
   "outputs": [],
   "source": [
    "import json"
   ]
  },
  {
   "cell_type": "code",
   "execution_count": 48,
   "metadata": {},
   "outputs": [],
   "source": [
    "alphabet_letters = [\"a\", \"b\", \"c\"]\n",
    "\n",
    "with open(\"alphabet_list.json\", \"w\") as f:\n",
    "    json.dump(alphabet_letters, f)\n"
   ]
  },
  {
   "cell_type": "code",
   "execution_count": 49,
   "metadata": {},
   "outputs": [
    {
     "name": "stdout",
     "output_type": "stream",
     "text": [
      "['a', 'b', 'c']\n",
      "a\n",
      "b\n",
      "c\n"
     ]
    }
   ],
   "source": [
    "with open('alphabet_list.json') as f:\n",
    "    x = json.load(f)\n",
    "    print(x)\n",
    "    for i in x:\n",
    "        print(i)"
   ]
  },
  {
   "cell_type": "code",
   "execution_count": 50,
   "metadata": {},
   "outputs": [],
   "source": [
    "customer_29876 = {\"first name\": \"David\",\n",
    "                  \"last name\": \"Elliott\",\n",
    "                  \"address\": \"4803 Wellesley St.\",}\n",
    "with open(\"alphabet_list.json\", \"w\") as f:\n",
    "    json.dump(customer_29876, f)"
   ]
  },
  {
   "cell_type": "code",
   "execution_count": 53,
   "metadata": {},
   "outputs": [],
   "source": [
    "with open(\"alphabet_list.json\") as f:\n",
    "    alphabet_list = json.load(f)"
   ]
  },
  {
   "cell_type": "code",
   "execution_count": 54,
   "metadata": {},
   "outputs": [
    {
     "name": "stdout",
     "output_type": "stream",
     "text": [
      "{'first name': 'David', 'last name': 'Elliott', 'address': '4803 Wellesley St.'}\n",
      "first name\n",
      "last name\n",
      "address\n"
     ]
    }
   ],
   "source": [
    "with open('alphabet_list.json') as f:\n",
    "    x = json.load(f)\n",
    "    print(x)\n",
    "    for i in x:\n",
    "        print(i)"
   ]
  },
  {
   "cell_type": "code",
   "execution_count": 70,
   "metadata": {},
   "outputs": [
    {
     "name": "stdout",
     "output_type": "stream",
     "text": [
      "Enter your first name: yasir\n",
      "Enter your last name: khan\n",
      "Enter your age: 17\n"
     ]
    }
   ],
   "source": [
    "f_name = input('Enter your first name: ')\n",
    "l_name = input('Enter your last name: ')\n",
    "age = int(input('Enter your age: '))\n",
    "user_info = {'first name': f_name, 'last name': l_name, 'age': age}"
   ]
  },
  {
   "cell_type": "code",
   "execution_count": 71,
   "metadata": {},
   "outputs": [],
   "source": [
    "with open(\"user info.json\", \"w\") as f:\n",
    "    json.dump(user_info, f)"
   ]
  },
  {
   "cell_type": "code",
   "execution_count": 72,
   "metadata": {},
   "outputs": [
    {
     "name": "stdout",
     "output_type": "stream",
     "text": [
      "first name: yasir\n",
      "last name: khan\n",
      "age: 17\n"
     ]
    }
   ],
   "source": [
    "with open('user info.json') as f:\n",
    "    x = json.load(f)\n",
    "    for k,v in x.items():\n",
    "        print(f'{k}: {v}')"
   ]
  },
  {
   "cell_type": "code",
   "execution_count": null,
   "metadata": {},
   "outputs": [],
   "source": []
  }
 ],
 "metadata": {
  "kernelspec": {
   "display_name": "Python 3",
   "language": "python",
   "name": "python3"
  },
  "language_info": {
   "codemirror_mode": {
    "name": "ipython",
    "version": 3
   },
   "file_extension": ".py",
   "mimetype": "text/x-python",
   "name": "python",
   "nbconvert_exporter": "python",
   "pygments_lexer": "ipython3",
   "version": "3.7.3"
  }
 },
 "nbformat": 4,
 "nbformat_minor": 2
}
